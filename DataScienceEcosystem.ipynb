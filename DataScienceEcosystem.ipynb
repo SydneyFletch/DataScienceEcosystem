{
 "cells": [
  {
   "cell_type": "markdown",
   "id": "bd538fde-15aa-4cc2-9219-51a2513f152b",
   "metadata": {},
   "source": [
    "# Data Science Tools and Ecosystem"
   ]
  },
  {
   "cell_type": "markdown",
   "id": "6438831d-ec06-4b40-9554-087305df8cbe",
   "metadata": {},
   "source": [
    "In this notebook, Data Science Tools and Ecosystem are summarized."
   ]
  },
  {
   "cell_type": "markdown",
   "id": "6eab56ed-00f9-4777-a21b-46135695dc97",
   "metadata": {
    "tags": []
   },
   "source": [
    "## Author"
   ]
  },
  {
   "cell_type": "markdown",
   "id": "fdaffb95-8e8b-4e0a-a722-48ede3c49526",
   "metadata": {
    "tags": []
   },
   "source": [
    "Sydney Smith-Fletcher"
   ]
  },
  {
   "cell_type": "markdown",
   "id": "8eac106a-a232-49f2-a279-f41635508db7",
   "metadata": {
    "tags": []
   },
   "source": [
    "**Objectives:**\n",
    "\n",
    "* List popular languages for Data Science\n",
    "* List commonly used libraries for Data Science\n",
    "* Evalute arithmetic expressions"
   ]
  },
  {
   "cell_type": "markdown",
   "id": "637d8261-771a-4e0a-a24e-161bac478005",
   "metadata": {},
   "source": [
    "Some of the popular languages that Data Scientists use are:\n",
    "\n",
    "    1. R\n",
    "    2. Python\n",
    "    3. SQL"
   ]
  },
  {
   "cell_type": "markdown",
   "id": "02d7cf11-eaa7-4df0-b751-28350907ed72",
   "metadata": {},
   "source": [
    "Some of the commonly used libraries used by Data Scientists include:\n",
    "    \n",
    "    1. Pandas\n",
    "    2. Plotly\n",
    "    3. Matplotlib"
   ]
  },
  {
   "cell_type": "markdown",
   "id": "921cadfc-8f8c-4afa-8072-7509d56b08a1",
   "metadata": {
    "tags": []
   },
   "source": [
    "|Data Science Tools|\n",
    "|-------------------|\n",
    "| Apache Spark |\n",
    "| Tableau |\n",
    "| Microsoft Excel |"
   ]
  },
  {
   "cell_type": "markdown",
   "id": "3a0d1c90-233a-4b84-aa64-d6c3087080dd",
   "metadata": {},
   "source": [
    "### Below are a few examples of evaluating arithmetic expressions in Python\n"
   ]
  },
  {
   "cell_type": "code",
   "execution_count": 13,
   "id": "4a88d2cd-4e7d-4bdc-a053-f49c67688fd0",
   "metadata": {
    "tags": []
   },
   "outputs": [
    {
     "data": {
      "text/plain": [
       "12"
      ]
     },
     "execution_count": 13,
     "metadata": {},
     "output_type": "execute_result"
    }
   ],
   "source": [
    "eval(\"6 * 2\")"
   ]
  },
  {
   "cell_type": "code",
   "execution_count": 14,
   "id": "d8a94e91-008d-42c5-978b-7c9e5240b0cc",
   "metadata": {
    "tags": []
   },
   "outputs": [
    {
     "data": {
      "text/plain": [
       "36"
      ]
     },
     "execution_count": 14,
     "metadata": {},
     "output_type": "execute_result"
    }
   ],
   "source": [
    "eval(\"6**2\")"
   ]
  },
  {
   "cell_type": "markdown",
   "id": "9cafc8ad-f05e-4542-bdbd-3e093d93fa99",
   "metadata": {
    "tags": []
   },
   "source": [
    "This a simple arithmetic expression to mutiply then add integers."
   ]
  },
  {
   "cell_type": "code",
   "execution_count": 5,
   "id": "a45b6565-d8c4-4e66-a0f8-50e53deee003",
   "metadata": {
    "tags": []
   },
   "outputs": [
    {
     "data": {
      "text/plain": [
       "17"
      ]
     },
     "execution_count": 5,
     "metadata": {},
     "output_type": "execute_result"
    }
   ],
   "source": [
    "(3*4)+5"
   ]
  },
  {
   "cell_type": "markdown",
   "id": "7feb8ee1-3bf2-4f98-913d-0ba38357c44c",
   "metadata": {
    "tags": []
   },
   "source": [
    "This will convert 200 minutes to hours by diving by 60"
   ]
  },
  {
   "cell_type": "code",
   "execution_count": 10,
   "id": "205f6849-b871-44f5-aa46-2e92eb76d4b6",
   "metadata": {
    "tags": []
   },
   "outputs": [
    {
     "data": {
      "text/plain": [
       "3.3333333333333335"
      ]
     },
     "execution_count": 10,
     "metadata": {},
     "output_type": "execute_result"
    }
   ],
   "source": [
    "200 / 60"
   ]
  },
  {
   "cell_type": "code",
   "execution_count": null,
   "id": "31dea84b-526c-4286-82b0-a33926fdee31",
   "metadata": {},
   "outputs": [],
   "source": []
  }
 ],
 "metadata": {
  "kernelspec": {
   "display_name": "Python",
   "language": "python",
   "name": "conda-env-python-py"
  },
  "language_info": {
   "codemirror_mode": {
    "name": "ipython",
    "version": 3
   },
   "file_extension": ".py",
   "mimetype": "text/x-python",
   "name": "python",
   "nbconvert_exporter": "python",
   "pygments_lexer": "ipython3",
   "version": "3.7.12"
  }
 },
 "nbformat": 4,
 "nbformat_minor": 5
}
